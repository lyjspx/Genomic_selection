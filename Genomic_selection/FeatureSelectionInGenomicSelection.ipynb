{
 "cells": [
  {
   "cell_type": "code",
   "execution_count": 2,
   "metadata": {
    "collapsed": false
   },
   "outputs": [],
   "source": [
    "import pandas as pd\n",
    "import numpy as np\n",
    "from sklearn.linear_model import Ridge\n",
    "from skfeature.function.statistical_based import CFS"
   ]
  },
  {
   "cell_type": "code",
   "execution_count": 4,
   "metadata": {
    "collapsed": false
   },
   "outputs": [],
   "source": [
    "geno = pd.read_csv(\"C:/Users/liu.yuan/OneDrive - North Dakota University System/Research/GenomicPredictionWithNeuralNetwork/numeric_geno_rrBLUP_Imputed.csv\"\n",
    "                   ,sep = \",\",index_col=0)\n",
    "pheno = pd.read_csv(\"C:/Users/liu.yuan/OneDrive - North Dakota University System/Research/GenomicPredictionWithNeuralNetwork/2012-2017 BLUPs for all traits.txt\"\n",
    "                   ,sep = \"\\t\",index_col=0)"
   ]
  },
  {
   "cell_type": "code",
   "execution_count": 5,
   "metadata": {
    "collapsed": false
   },
   "outputs": [
    {
     "data": {
      "text/plain": [
       "array(['DurumID', 'GY', 'TWT', 'TKW', 'SEDV', 'SEMEXT', 'SEMPRO', 'SEMCOL',\n",
       "       'KN', 'KNUM'], dtype=object)"
      ]
     },
     "execution_count": 5,
     "metadata": {},
     "output_type": "execute_result"
    }
   ],
   "source": [
    "pheno.columns.values"
   ]
  },
  {
   "cell_type": "code",
   "execution_count": 6,
   "metadata": {
    "collapsed": false
   },
   "outputs": [],
   "source": [
    "genoIndex = geno.index\n",
    "phenoIndex = pheno.index\n",
    "availableIndex = genoIndex.intersection(phenoIndex)"
   ]
  },
  {
   "cell_type": "code",
   "execution_count": 7,
   "metadata": {
    "collapsed": false
   },
   "outputs": [],
   "source": [
    "geno = geno.loc[availableIndex,]\n",
    "pheno = pheno.loc[availableIndex,]"
   ]
  },
  {
   "cell_type": "code",
   "execution_count": 8,
   "metadata": {
    "collapsed": false
   },
   "outputs": [
    {
     "data": {
      "text/plain": [
       "array([False, False, False, ...,  True,  True,  True], dtype=bool)"
      ]
     },
     "execution_count": 8,
     "metadata": {},
     "output_type": "execute_result"
    }
   ],
   "source": [
    "geno.index.str.contains(\"^AYT17\") # testing"
   ]
  },
  {
   "cell_type": "code",
   "execution_count": 9,
   "metadata": {
    "collapsed": false
   },
   "outputs": [
    {
     "data": {
      "text/plain": [
       "array([ True,  True,  True, ..., False, False, False], dtype=bool)"
      ]
     },
     "execution_count": 9,
     "metadata": {},
     "output_type": "execute_result"
    }
   ],
   "source": [
    "#geno.index.str.contains(\"^(?!AYT17.*$).*\") # training; regular expression solution too complex\n",
    "~geno.index.str.contains(\"^AYT17\") # traing; directly invert the array"
   ]
  },
  {
   "cell_type": "code",
   "execution_count": 10,
   "metadata": {
    "collapsed": false
   },
   "outputs": [],
   "source": [
    "genoTraining = geno.loc[~geno.index.str.contains(\"^AYT15\"),]\n",
    "phenoTraining = pheno.loc[~geno.index.str.contains(\"^AYT15\"),\"SEDV\"]\n",
    "genoTesting = geno.loc[geno.index.str.contains(\"^AYT15\"),]\n",
    "phenoTesting = pheno.loc[geno.index.str.contains(\"^AYT15\"),\"SEDV\"]"
   ]
  },
  {
   "cell_type": "code",
   "execution_count": 11,
   "metadata": {
    "collapsed": true
   },
   "outputs": [],
   "source": [
    "ridgeRegression = Ridge(alpha=0.01,max_iter = 10000)"
   ]
  },
  {
   "cell_type": "code",
   "execution_count": 12,
   "metadata": {
    "collapsed": false
   },
   "outputs": [
    {
     "data": {
      "text/plain": [
       "Ridge(alpha=0.01, copy_X=True, fit_intercept=True, max_iter=10000,\n",
       "   normalize=False, random_state=None, solver='auto', tol=0.001)"
      ]
     },
     "execution_count": 12,
     "metadata": {},
     "output_type": "execute_result"
    }
   ],
   "source": [
    "ridgeRegression.fit(genoTraining,phenoTraining)"
   ]
  },
  {
   "cell_type": "code",
   "execution_count": 13,
   "metadata": {
    "collapsed": false
   },
   "outputs": [
    {
     "data": {
      "text/plain": [
       "array([[ 1.        ,  0.42984379],\n",
       "       [ 0.42984379,  1.        ]])"
      ]
     },
     "execution_count": 13,
     "metadata": {},
     "output_type": "execute_result"
    }
   ],
   "source": [
    "np.corrcoef(phenoTesting,ridgeRegression.predict(genoTesting))"
   ]
  },
  {
   "cell_type": "code",
   "execution_count": 37,
   "metadata": {
    "collapsed": false
   },
   "outputs": [
    {
     "name": "stdout",
     "output_type": "stream",
     "text": [
      "Wall time: 17.1 s\n"
     ]
    }
   ],
   "source": [
    "%%time\n",
    "numOfMarker = 100\n",
    "numOfLine   = 50\n",
    "CFS.cfs(np.asarray(genoTraining.iloc[range(numOfLine),range(numOfMarker)]),np.asarray(phenoTraining[0:numOfLine]))"
   ]
  },
  {
   "cell_type": "code",
   "execution_count": 38,
   "metadata": {
    "collapsed": false
   },
   "outputs": [
    {
     "name": "stdout",
     "output_type": "stream",
     "text": [
      "Wall time: 13min 35s\n"
     ]
    }
   ],
   "source": [
    "%%time\n",
    "numOfMarker = 500\n",
    "numOfLine   = 50\n",
    "CFS.cfs(np.asarray(genoTraining.iloc[range(numOfLine),range(numOfMarker)]),np.asarray(phenoTraining[0:numOfLine]))"
   ]
  },
  {
   "cell_type": "code",
   "execution_count": 39,
   "metadata": {
    "collapsed": false
   },
   "outputs": [
    {
     "name": "stdout",
     "output_type": "stream",
     "text": [
      "Wall time: 32min 59s\n"
     ]
    }
   ],
   "source": [
    "%%time\n",
    "numOfMarker = 500\n",
    "numOfLine   = 100\n",
    "CFS.cfs(np.asarray(genoTraining.iloc[range(numOfLine),range(numOfMarker)]),np.asarray(phenoTraining[0:numOfLine]))"
   ]
  },
  {
   "cell_type": "code",
   "execution_count": 40,
   "metadata": {
    "collapsed": false
   },
   "outputs": [
    {
     "name": "stdout",
     "output_type": "stream",
     "text": [
      "Wall time: 25min 37s\n"
     ]
    }
   ],
   "source": [
    "%%time\n",
    "numOfMarker = 500\n",
    "numOfLine   = 200\n",
    "CFS.cfs(np.asarray(genoTraining.iloc[range(numOfLine),range(numOfMarker)]),np.asarray(phenoTraining[0:numOfLine]))"
   ]
  },
  {
   "cell_type": "code",
   "execution_count": 41,
   "metadata": {
    "collapsed": false
   },
   "outputs": [
    {
     "name": "stdout",
     "output_type": "stream",
     "text": [
      "Wall time: 7h 17min 24s\n"
     ]
    }
   ],
   "source": [
    "%%time\n",
    "numOfMarker = 1500\n",
    "numOfLine   = 200\n",
    "CFS.cfs(np.asarray(genoTraining.iloc[range(numOfLine),range(numOfMarker)]),np.asarray(phenoTraining[0:numOfLine]))"
   ]
  },
  {
   "cell_type": "code",
   "execution_count": 42,
   "metadata": {
    "collapsed": false
   },
   "outputs": [
    {
     "name": "stdout",
     "output_type": "stream",
     "text": [
      "Wall time: 19h 26min 30s\n"
     ]
    }
   ],
   "source": [
    "%%time\n",
    "numOfMarker = 2500\n",
    "numOfLine   = 200\n",
    "CFS.cfs(np.asarray(genoTraining.iloc[range(numOfLine),range(numOfMarker)]),np.asarray(phenoTraining[0:numOfLine]))"
   ]
  },
  {
   "cell_type": "code",
   "execution_count": null,
   "metadata": {
    "collapsed": false
   },
   "outputs": [
    {
     "name": "stdout",
     "output_type": "stream",
     "text": [
      "Wall time: 1d 20h 27min 41s\n"
     ]
    }
   ],
   "source": [
    "%%time\n",
    "numOfMarker = 2500\n",
    "numOfLine   = 300\n",
    "CFS.cfs(np.asarray(genoTraining.iloc[range(numOfLine),range(numOfMarker)]),np.asarray(phenoTraining[0:numOfLine]))"
   ]
  },
  {
   "cell_type": "code",
   "execution_count": null,
   "metadata": {
    "collapsed": true
   },
   "outputs": [],
   "source": [
    "%%time\n",
    "numOfMarker = 4000\n",
    "numOfLine   = 300\n",
    "CFS.cfs(np.asarray(genoTraining.iloc[range(numOfLine),range(numOfMarker)]),np.asarray(phenoTraining[0:numOfLine]))"
   ]
  },
  {
   "cell_type": "code",
   "execution_count": null,
   "metadata": {
    "collapsed": true
   },
   "outputs": [],
   "source": []
  }
 ],
 "metadata": {
  "kernelspec": {
   "display_name": "Python 3",
   "language": "python",
   "name": "python3"
  },
  "language_info": {
   "codemirror_mode": {
    "name": "ipython",
    "version": 3
   },
   "file_extension": ".py",
   "mimetype": "text/x-python",
   "name": "python",
   "nbconvert_exporter": "python",
   "pygments_lexer": "ipython3",
   "version": "3.6.0"
  }
 },
 "nbformat": 4,
 "nbformat_minor": 2
}
